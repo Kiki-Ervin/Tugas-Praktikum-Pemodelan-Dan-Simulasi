{
  "nbformat": 4,
  "nbformat_minor": 0,
  "metadata": {
    "colab": {
      "provenance": [],
      "authorship_tag": "ABX9TyNXOWUsGksURGkJP8FXOTG0",
      "include_colab_link": true
    },
    "kernelspec": {
      "name": "python3",
      "display_name": "Python 3"
    },
    "language_info": {
      "name": "python"
    }
  },
  "cells": [
    {
      "cell_type": "markdown",
      "metadata": {
        "id": "view-in-github",
        "colab_type": "text"
      },
      "source": [
        "<a href=\"https://colab.research.google.com/github/Kiki-Ervin/Tugas-Praktikum-permodelan/blob/main/Praktikum_Pemodelan_Dan_Simulasi_Tugas_8_Simulasi_Pembagian_Kelompok_Menggunakian_RNG.ipynb\" target=\"_parent\"><img src=\"https://colab.research.google.com/assets/colab-badge.svg\" alt=\"Open In Colab\"/></a>"
      ]
    },
    {
      "cell_type": "code",
      "execution_count": 53,
      "metadata": {
        "colab": {
          "base_uri": "https://localhost:8080/",
          "height": 1000
        },
        "id": "-6nY5UXPp7FD",
        "outputId": "b18e4953-e77f-4265-f47c-f9a64ca8c5a6"
      },
      "outputs": [
        {
          "output_type": "stream",
          "name": "stdout",
          "text": [
            "Hasil RNG:\n",
            "Iterasi | Z_prev | Rumus               | Z     | U\n",
            "1        | 7      | (5 * 7) mod 16     | 3     | 0.188\n",
            "2        | 3      | (5 * 3) mod 16     | 15    | 0.938\n",
            "3        | 15     | (5 * 15) mod 16    | 11    | 0.688\n",
            "4        | 11     | (5 * 11) mod 16    | 7     | 0.438\n",
            "5        | 7      | (5 * 7) mod 16     | 3     | 0.188\n",
            "6        | 3      | (5 * 3) mod 16     | 15    | 0.938\n",
            "7        | 15     | (5 * 15) mod 16    | 11    | 0.688\n",
            "8        | 11     | (5 * 11) mod 16    | 7     | 0.438\n",
            "9        | 7      | (5 * 7) mod 16     | 3     | 0.188\n",
            "10       | 3      | (5 * 3) mod 16     | 15    | 0.938\n",
            "11       | 15     | (5 * 15) mod 16    | 11    | 0.688\n",
            "12       | 11     | (5 * 11) mod 16    | 7     | 0.438\n",
            "13       | 7      | (5 * 7) mod 16     | 3     | 0.188\n",
            "14       | 3      | (5 * 3) mod 16     | 15    | 0.938\n",
            "15       | 15     | (5 * 15) mod 16    | 11    | 0.688\n",
            "16       | 11     | (5 * 11) mod 16    | 7     | 0.438\n",
            "17       | 7      | (5 * 7) mod 16     | 3     | 0.188\n",
            "18       | 3      | (5 * 3) mod 16     | 15    | 0.938\n",
            "\n",
            "Pembagian Kelompok dan Ketua:\n",
            "Kelompok 1: ['Indra', 'Budi', 'Meli', 'Dedi', 'Fadil']\n",
            "  Ketua: Meli\n",
            "Kelompok 2: ['Qila', 'Rudi', 'Gita', 'Lala']\n",
            "  Ketua: Qila\n",
            "Kelompok 3: ['Citra', 'Elsa', 'Joko', 'Ali', 'Oki']\n",
            "  Ketua: Elsa\n",
            "Kelompok 4: ['Hendra', 'Kiki', 'Putri', 'Niko']\n",
            "  Ketua: Hendra\n"
          ]
        },
        {
          "output_type": "display_data",
          "data": {
            "text/plain": [
              "<Figure size 640x480 with 1 Axes>"
            ],
            "image/png": "[encoded data removed]"
          },
          "metadata": {}
        }
      ],
      "source": [
        "import random\n",
        "import matplotlib.pyplot as plt\n",
        "\n",
        "# Parameter RNG\n",
        "Z0 = 7  # Bilangan awal (seed)\n",
        "a = 5   # Konstanta pengali\n",
        "m = 16  # Modulus\n",
        "n = 18  # Jumlah bilangan acak yang akan dihasilkan (jumlah anggota)\n",
        "\n",
        "# Daftar nama anggota\n",
        "anggota = ['Ali', 'Budi', 'Citra', 'Dedi', 'Elsa', 'Fadil', 'Gita', 'Hendra', 'Indra', 'Joko',\n",
        "           'Kiki', 'Lala', 'Meli', 'Niko', 'Oki', 'Putri', 'Qila', 'Rudi']\n",
        "\n",
        "# Inisialisasi daftar untuk menyimpan hasil\n",
        "results = []\n",
        "Z = Z0  # Bilangan awal\n",
        "\n",
        "# Menghitung bilangan acak menggunakan RNG\n",
        "for i in range(1, n + 1):\n",
        "    Z_prev = Z  # Menyimpan bilangan sebelumnya\n",
        "    Z = (a * Z) % m  # Menghitung bilangan acak selanjutnya\n",
        "    U = Z / m  # Menghitung bilangan acak seragam\n",
        "    rumus = f\"(5 * {Z_prev}) mod {m}\"  # Rumus yang digunakan\n",
        "    results.append([i, Z_prev, rumus, Z, round(U, 3)])  # Menyimpan hasil\n",
        "\n",
        "# Menampilkan hasil RNG\n",
        "print(\"Hasil RNG:\")\n",
        "print(\"Iterasi | Z_prev | Rumus               | Z     | U\")\n",
        "for row in results:\n",
        "    print(f\"{row[0]:<8} | {row[1]:<6} | {row[2]:<18} | {row[3]:<5} | {row[4]}\")\n",
        "\n",
        "# Pembagian kelompok secara acak dengan 4 atau 5 anggota per kelompok\n",
        "kelompok = []\n",
        "remaining_members = anggota.copy()\n",
        "\n",
        "# Mengacak urutan anggota terlebih dahulu\n",
        "random.shuffle(remaining_members)\n",
        "\n",
        "# Tentukan jumlah anggota kelompok secara acak (4 atau 5 orang per kelompok)\n",
        "while len(remaining_members) > 5:\n",
        "    group_size = random.choice([4, 5])  # Ukuran kelompok acak antara 4 atau 5\n",
        "    kelompok.append(remaining_members[:group_size])\n",
        "    remaining_members = remaining_members[group_size:]\n",
        "\n",
        "# Masukkan sisa anggota (tidak kurang dari 4) ke kelompok terakhir\n",
        "if remaining_members:\n",
        "    kelompok.append(remaining_members)\n",
        "\n",
        "# Pemilihan ketua secara acak untuk setiap kelompok\n",
        "ketua = {}\n",
        "for i, anggota_kelompok in enumerate(kelompok, 1):\n",
        "    ketua[i] = random.choice(anggota_kelompok)  # Pilih ketua secara acak dari anggota kelompok\n",
        "\n",
        "# Menampilkan pembagian kelompok dan ketua\n",
        "print(\"\\nPembagian Kelompok dan Ketua:\")\n",
        "for i, anggota_kelompok in enumerate(kelompok, 1):\n",
        "    print(f\"Kelompok {i}: {anggota_kelompok}\")\n",
        "    print(f\"  Ketua: {ketua[i]}\")\n",
        "\n",
        "# Menampilkan grafik pembagian kelompok dengan penyesuaian\n",
        "kelompok_counts = [len(k) for k in kelompok]\n",
        "colors = ['skyblue', 'lightgreen', 'lightcoral', 'lightsalmon', 'lightyellow']  # Warna berbeda untuk setiap kelompok\n",
        "\n",
        "plt.bar(range(1, len(kelompok) + 1), kelompok_counts, color=colors[:len(kelompok)])\n",
        "plt.xlabel('Kelompok')\n",
        "plt.ylabel('Jumlah Anggota')\n",
        "plt.title('Grafik Pembagian Anggota per Kelompok', pad=20)  # Memberi jarak antara judul dan grafik\n",
        "\n",
        "# Menambahkan label jumlah anggota di atas bar\n",
        "for i, count in enumerate(kelompok_counts):\n",
        "    plt.text(i + 1, count + 0.2, str(count), ha='center', va='bottom', fontsize=10)\n",
        "\n",
        "# Menambahkan label ketua di atas bar yang sesuai dan memberikan jarak agar tidak tumpang tindih\n",
        "for i, ketua_name in ketua.items():\n",
        "    plt.text(i, kelompok_counts[i-1] + 0.4, f\"Ketua: {ketua_name}\", ha='center', fontsize=8, color='black')\n",
        "\n",
        "plt.xticks(range(1, len(kelompok) + 1))\n",
        "plt.tight_layout()  # Menyesuaikan layout agar elemen tidak saling tumpang tindih\n",
        "plt.show()\n"
      ]
    }
  ]
}